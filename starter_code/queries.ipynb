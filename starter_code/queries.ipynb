{
 "cells": [
  {
   "cell_type": "code",
   "execution_count": 1,
   "metadata": {},
   "outputs": [],
   "source": [
    "import pymongo\n",
    "MongoClient = pymongo.MongoClient\n",
    "client = MongoClient()\n",
    "db = client.companies"
   ]
  },
  {
   "cell_type": "markdown",
   "metadata": {},
   "source": [
    "# Answers"
   ]
  },
  {
   "cell_type": "markdown",
   "metadata": {},
   "source": [
    "### 1. All the companies that it's name match 'Babelgum'. Retrieve only their `name` field."
   ]
  },
  {
   "cell_type": "code",
   "execution_count": 3,
   "metadata": {},
   "outputs": [
    {
     "name": "stdout",
     "output_type": "stream",
     "text": [
      "[{'_id': ObjectId('52cdef7c4bab8bd675297da0'), 'name': 'Babelgum'}]\n"
     ]
    }
   ],
   "source": [
    "cursor = db.companies.find({\"name\":\"Babelgum\"},{'name':1})\n",
    "\n",
    "print (list(cursor))"
   ]
  },
  {
   "cell_type": "markdown",
   "metadata": {},
   "source": [
    "### 4. All the companies that had a Valuation Amount of more than 100.000.000 and have been founded before 2010. Retrieve only the `name` and `ipo` fields."
   ]
  },
  {
   "cell_type": "code",
   "execution_count": null,
   "metadata": {},
   "outputs": [],
   "source": [
    "cursor = db.companies.find( {\"$and\":[{\"ipo.valuation_amount\":{\"$gt\":(100000000)}},\n",
    "                                   {\"founded_year\":{\"$lt\":(2010)} }] },\n",
    "                           {'name':1, 'ipo':1})\n",
    "\n",
    "print (list(cursor))"
   ]
  },
  {
   "cell_type": "markdown",
   "metadata": {},
   "source": [
    "### 14. All the companies that have been acquired after 2015, order by the acquisition amount, and retrieve only their `name` and `acquisiton` field."
   ]
  },
  {
   "cell_type": "code",
   "execution_count": 11,
   "metadata": {},
   "outputs": [
    {
     "name": "stdout",
     "output_type": "stream",
     "text": [
      "[]\n"
     ]
    }
   ],
   "source": [
    "cursor = db.companies.find ({'acquisition.acquired_year': {\"$gte\":(2015)}},\n",
    "                            {'name':1 , 'acquisition':1}\n",
    "                           ).sort(\"acquisition.price_amount\",pymongo.ASCENDING)\n",
    "\n",
    "print (list(cursor)) # Sin resultados igual que en compass"
   ]
  },
  {
   "cell_type": "markdown",
   "metadata": {},
   "source": [
    "### 16. All the companies that have been founded on the first seven days of the month, including the seventh. Sort them by their `aquisition price` descendently. Limit the search to 10 documents."
   ]
  },
  {
   "cell_type": "code",
   "execution_count": null,
   "metadata": {},
   "outputs": [],
   "source": [
    "cursor = db.companies.find ({ \"$and\": [ {'founded_day':{\"$lte\":(7)} },\n",
    "                                        {'founded_day':{\"$ne\": None }} \n",
    "                                      ]\n",
    "                            }).sort('acquisition.price_amount',pymongo.DESCENDING).limit(10)\n",
    "                            \n",
    "print (list(cursor))\n"
   ]
  },
  {
   "cell_type": "markdown",
   "metadata": {},
   "source": [
    "### 20. All the companies that have been founded between 2000 and 2010, but have not been acquired before 2011."
   ]
  },
  {
   "cell_type": "code",
   "execution_count": null,
   "metadata": {},
   "outputs": [],
   "source": [
    "cursor = db.companies.find ({ \"$and\": [ {\"founded_year\": {\"$gte\":(2000)}},\n",
    "                                        {\"founded_year\":{\"$lte\":(2010)}},\n",
    "                                       {\"acquisition.acquired_year\":{\"$gte\":(2011)}}\n",
    "                                      ]\n",
    "                            }).limit(5)\n",
    "\n",
    "print (list(cursor))  # lo limito a 5 porque sin ello eran demasiados resultados y me advertia que podia petar"
   ]
  },
  {
   "cell_type": "markdown",
   "metadata": {},
   "source": [
    "### 12. All the companies that have been 'deadpooled' after the third year."
   ]
  },
  {
   "cell_type": "code",
   "execution_count": null,
   "metadata": {},
   "outputs": [],
   "source": []
  }
 ],
 "metadata": {
  "kernelspec": {
   "display_name": "Python 3",
   "language": "python",
   "name": "python3"
  },
  "language_info": {
   "codemirror_mode": {
    "name": "ipython",
    "version": 3
   },
   "file_extension": ".py",
   "mimetype": "text/x-python",
   "name": "python",
   "nbconvert_exporter": "python",
   "pygments_lexer": "ipython3",
   "version": "3.6.7"
  }
 },
 "nbformat": 4,
 "nbformat_minor": 2
}
